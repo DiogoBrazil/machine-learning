{
  "nbformat": 4,
  "nbformat_minor": 0,
  "metadata": {
    "colab": {
      "provenance": []
    },
    "kernelspec": {
      "name": "python3",
      "display_name": "Python 3"
    },
    "language_info": {
      "name": "python"
    }
  },
  "cells": [
    {
      "cell_type": "code",
      "execution_count": null,
      "metadata": {
        "id": "--T7-ZZxPRR-"
      },
      "outputs": [],
      "source": [
        "!pip install llama-index \n",
        "!pip install PyPDF2\n",
        "!pip install BeautifulSoup"
      ]
    },
    {
      "cell_type": "code",
      "source": [
        "import PyPDF2\n",
        "from bs4 import BeautifulSoup"
      ],
      "metadata": {
        "id": "kYQm51NueM0F"
      },
      "execution_count": null,
      "outputs": []
    },
    {
      "cell_type": "code",
      "source": [
        "# Lê um arquivo\n",
        "def read_file(file_path):\n",
        "    # verifica a extensão do arquivo para saber como lê-lo\n",
        "    _, file_extension = os.path.splitext(file_path)\n",
        "    file_extension = file_extension.lower()\n",
        "\n",
        "    # lê o arquivo e retorna seu conteúdo como uma string\n",
        "    if file_extension == \".pdf\":\n",
        "        with open(file_path, 'rb') as f:\n",
        "            pdf_reader = PyPDF2.PdfReader(f)\n",
        "            content = \"\"\n",
        "            for page in pdf_reader.pages:\n",
        "                content += page.extract_text()\n",
        "            return content\n",
        "    elif file_extension == \".html\":\n",
        "        with open(file_path, 'r') as f:\n",
        "            html = f.read()\n",
        "            soup = BeautifulSoup(html, 'html.parser')\n",
        "            content = soup.get_text()\n",
        "            return content\n",
        "    else:\n",
        "        raise ValueError(f\"Unsupported file format: {file_extension}\")"
      ],
      "metadata": {
        "id": "O0OPkEqmeaQd"
      },
      "execution_count": null,
      "outputs": []
    },
    {
      "cell_type": "code",
      "source": [
        "from llama_index import GPTSimpleVectorIndex, Document, SimpleDirectoryReader\n",
        "import os"
      ],
      "metadata": {
        "id": "FJ91a9A3cuq9"
      },
      "execution_count": null,
      "outputs": []
    },
    {
      "cell_type": "code",
      "source": [
        "#os.environ['OPENAI_API_KEY'] = \"your--key\""
      ],
      "metadata": {
        "id": "8vT-6CfmdCPv"
      },
      "execution_count": null,
      "outputs": []
    },
    {
      "cell_type": "code",
      "source": [
        "text1 = read_file(\"/content/- RICMS_RO 22721_2018 - Legislação Online - Secretaria de Estado de Finanças.html\")"
      ],
      "metadata": {
        "id": "W6gAeqLRehtN"
      },
      "execution_count": null,
      "outputs": []
    },
    {
      "cell_type": "code",
      "source": [
        "text1"
      ],
      "metadata": {
        "colab": {
          "base_uri": "https://localhost:8080/",
          "height": 105
        },
        "id": "OlUbpXlATB2b",
        "outputId": "2f3fcf0a-1175-4c5e-e917-c1fd099e490e"
      },
      "execution_count": null,
      "outputs": [
        {
          "output_type": "execute_result",
          "data": {
            "text/plain": [
              "'\\n\\n\\n\\n\\n\\n\\n\\n\\nRICMS/RO 22721/2018 -  Legislação Online - Secretaria de Estado de Finanças \\n\\n\\n\\n\\n\\n\\n\\n\\n\\n\\n\\n\\n\\n\\n\\n\\n\\n\\n\\n\\n\\n\\n\\n\\nLEGISLAÇÃO\\n\\n\\n\\n\\n\\n\\n\\n\\n\\n\\n\\n\\n\\nPortal Sefin\\nAgência Virtual\\n\\n\\n\\n\\n\\n\\n\\n\\n\\n\\n\\n\\n\\nMenu Principal\\n\\n\\n\\n\\n\\n Todos\\n\\n\\n Legislação Tributária\\n\\n\\nTodos\\n Regulamento do ICMS e ANEXOS (Novo)\\n Regulamento do ICMS e ANEXOS (Antigo)\\n Regulamento do IPVA\\n Regulamento do ITCD\\n Leis Complementares\\n Leis Ordinárias\\n Decretos\\n Instrução Normativa\\n Resoluções Conjuntas\\n Resoluções\\n Ato Normativo\\n Ato Conjunto\\n Código Tributário Nacional\\n Simples Nacional\\n\\n\\n\\n\\n Consultoria Tributária\\n\\n\\nTodos\\n Pareceres Normativos\\n Informações Fiscais\\n Pareceres\\n\\n\\n\\n\\n Legislação Outras\\n\\n\\n\\n\\n\\n\\n\\n\\n\\n\\n\\nRICMS/RO 22721/2018\\n\\n\\nAnexos Downloads\\n\\n ANEXO II - REDU��O DA BASE DE C�LCULO - Reda��o original.doc\\n ANEXO II - REDU��O DA BASE DE C�LCULO - Reda��o original.pdf\\n ANEXO II - REDUCAO DA BASE DE CALCULO - Consolid. ate Dec. 27463-22.pdf\\n ANEXO II - REDUCAO DA BASE DE CALCULO - Consolid. ate Dec. 27463-22.doc\\n\\n\\n\\n\\n\\n\\nRICMS/RO 22721/2018\\n\\n\\n\\n\\n\\n\\n\\n\\n\\n\\n\\n\\n\\nSEFIN\\nGoverno do Estado de Rondônia\\nSecretaria de Estado de Finanças\\n\\n\\n\\n\\n                Desenvolvido por\\n                GETIC/SEFIN\\n                ©  \\n                Versão: 1.2.0 \\n\\n\\n\\n\\n\\n\\n\\n'"
            ],
            "application/vnd.google.colaboratory.intrinsic+json": {
              "type": "string"
            }
          },
          "metadata": {},
          "execution_count": 18
        }
      ]
    },
    {
      "cell_type": "code",
      "source": [
        "text_list = [text1]\n",
        "\n",
        "documents = [Document(t) for t in text_list]"
      ],
      "metadata": {
        "id": "Yi1qW-DYdba9"
      },
      "execution_count": null,
      "outputs": []
    },
    {
      "cell_type": "code",
      "source": [
        "\n",
        "index = GPTSimpleVectorIndex(documents)"
      ],
      "metadata": {
        "id": "0iUqVK-DdOp0"
      },
      "execution_count": null,
      "outputs": []
    },
    {
      "cell_type": "code",
      "source": [
        "response = index.query(\"Qual a frequência mínima em sala de aula para um aluno de ADS ser aprovado?\")"
      ],
      "metadata": {
        "id": "Z_Q-dgoGk1aE"
      },
      "execution_count": null,
      "outputs": []
    },
    {
      "cell_type": "code",
      "source": [
        "print(response)"
      ],
      "metadata": {
        "colab": {
          "base_uri": "https://localhost:8080/"
        },
        "id": "mX4MCK7Bl9eb",
        "outputId": "3d6ea7f1-56a0-466e-98fc-82013160e816"
      },
      "execution_count": null,
      "outputs": [
        {
          "output_type": "stream",
          "name": "stdout",
          "text": [
            "\n",
            "75%.\n"
          ]
        }
      ]
    }
  ]
}